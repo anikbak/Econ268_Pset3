{
 "cells": [
  {
   "cell_type": "code",
   "execution_count": 7,
   "metadata": {},
   "outputs": [],
   "source": [
    "import numpy as np\n",
    "from numba import njit\n",
    "import scipy.optimize as opt\n",
    "import scipy.linalg as linalg\n",
    "import matplotlib.pyplot as plt\n",
    "\n",
    "import mathutils\n",
    "import het_block as het\n",
    "import rec_block as rec\n",
    "from rec_block import recursive\n",
    "import jacobian as jac\n",
    "import ks"
   ]
  },
  {
   "cell_type": "code",
   "execution_count": 8,
   "metadata": {},
   "outputs": [],
   "source": [
    "def backward_iterate(Va_p, Pi_p, a_grid, e_grid, r, w, beta, eis):\n",
    "    \"\"\"Single backward iteration step using endogenous gridpoint method for households with CRRA utility.\n",
    "\n",
    "    Parameters\n",
    "    ----------\n",
    "    Va_p     : array (S*A), marginal value of assets tomorrow\n",
    "    Pi_p     : array (S*S), Markov matrix for skills tomorrow\n",
    "    a_grid   : array (A), asset grid\n",
    "    e_grid   : array (A), skill grid\n",
    "    r        : scalar, ex-post interest rate\n",
    "    w        : scalar, wage\n",
    "    beta     : scalar, discount rate today\n",
    "    eis      : scalar, elasticity of intertemporal substitution\n",
    "\n",
    "    Returns\n",
    "    ----------\n",
    "    Va : array (S*A), marginal value of assets today\n",
    "    a  : array (S*A), asset policy today\n",
    "    c  : array (S*A), consumption policy today\n",
    "    \"\"\"\n",
    "    uc_nextgrid = (beta * Pi_p) @ Va_p\n",
    "    c_nextgrid = uc_nextgrid ** (-eis)\n",
    "    coh = (1 + r) * a_grid[np.newaxis, :] + w * e_grid[:, np.newaxis]\n",
    "    a = mathutils.interpolate_y(c_nextgrid + a_grid, coh, a_grid)\n",
    "    mathutils.setmin(a, a_grid[0])\n",
    "    c = coh - a\n",
    "    Va = (1 + r) * c ** (-1 / eis)\n",
    "    return Va, a, c"
   ]
  },
  {
   "cell_type": "code",
   "execution_count": 9,
   "metadata": {},
   "outputs": [],
   "source": [
    "def pol_ss(Pi, e_grid, a_grid, r, w, beta, eis, Va_seed=None, tol=1E-8, maxit=5000):\n",
    "    \"\"\"Find steady-state policy functions.\"\"\"\n",
    "    if Va_seed is None:\n",
    "        coh = (1 + r) * a_grid[np.newaxis, :] + w * e_grid[:, np.newaxis]\n",
    "        Va = (1 + r) * (0.1 * coh) ** (-1 / eis)\n",
    "    else:\n",
    "        Va = Va_seed\n",
    "\n",
    "    # iterate until convergence of a policy by tol, or reach max number of iterations\n",
    "    a = np.empty_like(Va)\n",
    "    for it in range(maxit):\n",
    "        Va, anew, c = backward_iterate(Va, Pi, a_grid, e_grid, r, w, beta, eis)\n",
    "\n",
    "        if it % 10 == 1 and mathutils.within_tolerance(a, anew, tol):\n",
    "            break\n",
    "        a = anew\n",
    "    else:\n",
    "        raise ValueError(f'No convergence after {maxit} backward iterations!')\n",
    "    a = anew\n",
    "\n",
    "    return Va, a, c"
   ]
  },
  {
   "cell_type": "code",
   "execution_count": 10,
   "metadata": {},
   "outputs": [],
   "source": [
    "def household_ss(Pi, a_grid, e_grid, r, w, beta, eis, Va_seed=None, D_seed=None, pi_seed=None):\n",
    "    \"\"\"Solve for steady-state policies and distribution. Report results in dict.\"\"\"\n",
    "    # solve ha block\n",
    "    Va, a, c = pol_ss(Pi, e_grid, a_grid, r, w, beta, eis, Va_seed)\n",
    "    D = mathutils.dist_ss(a, Pi, a_grid, D_seed, pi_seed)\n",
    "\n",
    "    # return dictionary with results and inputs\n",
    "    inputs = {'Pi': Pi, 'a_grid': a_grid, 'e_grid': e_grid, 'r': r, 'w': w, 'beta': beta, 'eis': eis}\n",
    "    results = {'D': D, 'Va': Va, 'a': a, 'c': c, 'A': np.vdot(D, a), 'C': np.vdot(D, c)}\n",
    "\n",
    "    return {**inputs, **results}"
   ]
  },
  {
   "cell_type": "code",
   "execution_count": 11,
   "metadata": {},
   "outputs": [],
   "source": [
    "def ks_ss(lb=0.98, ub=0.999, r=0.01, eis=1, delta=0.025, alpha=0.11, b=0.15, pUE=0.5, pEU=0.038, nA=100, amax=20):\n",
    "    \"\"\"Solve steady state of full GE model. Calibrate beta to hit target for interest rate.\"\"\"\n",
    "    # set up grid\n",
    "    a_grid = mathutils.agrid(amax=amax, n=nA)\n",
    "    L = pUE / (pUE + pEU)  # labor endowment normalized to 1\n",
    "    e_grid = np.array([b, 1 - (1 - L) / L * b])\n",
    "    Pi = np.array([[1 - pUE, pUE], [pEU, 1 - pEU]])\n",
    "\n",
    "    # solve for aggregates analitically\n",
    "    rk = r + delta\n",
    "    Z = (rk / alpha) ** alpha / L ** (1 - alpha)  # normalize so that Y=1\n",
    "    K = (alpha * Z / rk) ** (1 / (1 - alpha)) * L\n",
    "    Y = Z * K ** alpha * L ** (1 - alpha)\n",
    "    w = (1 - alpha) * Z * (alpha * Z / rk) ** (alpha / (1 - alpha))\n",
    "\n",
    "    # solve for beta consistent with this\n",
    "    beta_min = lb / (1 + r)\n",
    "    beta_max = ub / (1 + r)\n",
    "    beta, results = opt.brentq(lambda bet:\n",
    "                               household_ss(Pi, a_grid, e_grid, r, w, bet, eis)['A'] - K,\n",
    "                               beta_min, beta_max, full_output=True)\n",
    "    if not results.converged:\n",
    "        raise ValueError('Steady-state solver did not converge.')\n",
    "\n",
    "    # extra evaluation to report variables\n",
    "    ss = household_ss(Pi, a_grid, e_grid, r, w, beta, eis)\n",
    "    mpc = mathutils.mpcs(ss['c'], ss['a_grid'], ss['r'])\n",
    "    ss.update({'mpc': mpc, 'MPC': np.vdot(ss['D'], mpc),\n",
    "               'w': w, 'Z': Z, 'K': K, 'L': L, 'Y': Y, 'alpha': alpha, 'delta': delta,\n",
    "               'goods_mkt': Y - ss['C'] - delta * K})\n",
    "\n",
    "    return ss"
   ]
  },
  {
   "cell_type": "code",
   "execution_count": 13,
   "metadata": {},
   "outputs": [
    {
     "data": {
      "image/png": "[encoded data removed]",
      "text/plain": [
       "<Figure size 432x288 with 1 Axes>"
      ]
     },
     "metadata": {},
     "output_type": "display_data"
    }
   ],
   "source": [
    "ss = ks_ss()\n",
    "plt.plot(ss['a_grid'], ss['c'][0,:], label='unemployed')\n",
    "plt.plot(ss['a_grid'], ss['c'][1,:], label='employed')\n",
    "plt.legend()\n",
    "plt.xlabel('Assets'), plt.ylabel('Consumption')\n",
    "plt.show()"
   ]
  },
  {
   "cell_type": "code",
   "execution_count": null,
   "metadata": {},
   "outputs": [],
   "source": []
  }
 ],
 "metadata": {
  "kernelspec": {
   "display_name": "Python 3",
   "language": "python",
   "name": "python3"
  },
  "language_info": {
   "codemirror_mode": {
    "name": "ipython",
    "version": 3
   },
   "file_extension": ".py",
   "mimetype": "text/x-python",
   "name": "python",
   "nbconvert_exporter": "python",
   "pygments_lexer": "ipython3",
   "version": "3.6.5"
  }
 },
 "nbformat": 4,
 "nbformat_minor": 2
}
